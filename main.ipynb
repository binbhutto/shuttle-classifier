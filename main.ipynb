{
  "nbformat": 4,
  "nbformat_minor": 0,
  "metadata": {
    "language_info": {
      "codemirror_mode": {
        "name": "ipython",
        "version": 3
      },
      "file_extension": ".py",
      "mimetype": "text/x-python",
      "name": "python",
      "nbconvert_exporter": "python",
      "pygments_lexer": "ipython3",
      "version": "3.8.2-final"
    },
    "orig_nbformat": 2,
    "kernelspec": {
      "name": "python38264bit39dc8ef7bccd454ea4fadc09ad86ce16",
      "display_name": "Python 3.8.2 64-bit"
    },
    "colab": {
      "name": "main.ipynb",
      "provenance": [],
      "collapsed_sections": []
    }
  },
  "cells": [
    {
      "cell_type": "markdown",
      "metadata": {
        "id": "W3tt0dzy21Cc"
      },
      "source": [
        "All the flat files provided with data are combined in one file called allData.dat and read using pandas. Comments are ignored and objects are converted to numeric value using to_numeric method. <null> object gets converted to np.nan and other string values to float.\n",
        "\n",
        "The following code is used in generating pandas profiling from dataframes.\n",
        "```\n",
        "from pandas_profiling import ProfileReport\n",
        "profile_2 = ProfileReport(df, title=\"Pandas Profiling Report after Pre-Processing\")\n",
        "profile_2.to_widgets()\n",
        "```\n",
        "These can be found here:\n",
        "\n",
        "\n",
        "*   Before performing pre-processing: https://abbhutto.com/eda01\n",
        "*   After performing pre-processing: https://abbhutto.com/eda02\n",
        "\n",
        "\n",
        "\n"
      ]
    },
    {
      "cell_type": "code",
      "metadata": {
        "id": "Owe_xHpXxlW3"
      },
      "source": [
        "import pandas as pd\n",
        "import numpy as np\n",
        "column_dfIndex = ['A1', 'A2', 'A3', 'A4', 'A5', 'A6', 'A7', 'A8', 'A9', 'Class']\n",
        "df = pd.read_csv ('allData.dat', comment='@', names = column_dfIndex)\n",
        "df = df.apply(pd.to_numeric, errors='coerce')"
      ],
      "execution_count": 72,
      "outputs": []
    },
    {
      "cell_type": "markdown",
      "metadata": {
        "id": "jBGRmVKm34By"
      },
      "source": [
        "Prints shape of the data frame and describes a overall view of the data in terms of count, mean, standard deviation, minmum value, percentile (25%, 50%, 75%) and maximum value for each feature."
      ]
    },
    {
      "cell_type": "code",
      "metadata": {
        "id": "3kmKS1fHxlXC",
        "outputId": "89c93c6d-800b-455a-a259-bbbc34eeac45",
        "colab": {
          "base_uri": "https://localhost:8080/",
          "height": 314
        }
      },
      "source": [
        "print(df.shape)\n",
        "df.describe()"
      ],
      "execution_count": 73,
      "outputs": [
        {
          "output_type": "stream",
          "text": [
            "(21755, 10)\n"
          ],
          "name": "stdout"
        },
        {
          "output_type": "execute_result",
          "data": {
            "text/html": [
              "<div>\n",
              "<style scoped>\n",
              "    .dataframe tbody tr th:only-of-type {\n",
              "        vertical-align: middle;\n",
              "    }\n",
              "\n",
              "    .dataframe tbody tr th {\n",
              "        vertical-align: top;\n",
              "    }\n",
              "\n",
              "    .dataframe thead th {\n",
              "        text-align: right;\n",
              "    }\n",
              "</style>\n",
              "<table border=\"1\" class=\"dataframe\">\n",
              "  <thead>\n",
              "    <tr style=\"text-align: right;\">\n",
              "      <th></th>\n",
              "      <th>A1</th>\n",
              "      <th>A2</th>\n",
              "      <th>A3</th>\n",
              "      <th>A4</th>\n",
              "      <th>A5</th>\n",
              "      <th>A6</th>\n",
              "      <th>A7</th>\n",
              "      <th>A8</th>\n",
              "      <th>A9</th>\n",
              "      <th>Class</th>\n",
              "    </tr>\n",
              "  </thead>\n",
              "  <tbody>\n",
              "    <tr>\n",
              "      <th>count</th>\n",
              "      <td>19885.000000</td>\n",
              "      <td>19985.000000</td>\n",
              "      <td>19645.000000</td>\n",
              "      <td>19670.000000</td>\n",
              "      <td>19795.000000</td>\n",
              "      <td>19705.000000</td>\n",
              "      <td>19860.000000</td>\n",
              "      <td>19855.000000</td>\n",
              "      <td>19735.000000</td>\n",
              "      <td>21750.000000</td>\n",
              "    </tr>\n",
              "    <tr>\n",
              "      <th>mean</th>\n",
              "      <td>48.178024</td>\n",
              "      <td>0.203453</td>\n",
              "      <td>85.626572</td>\n",
              "      <td>1.152211</td>\n",
              "      <td>34.554281</td>\n",
              "      <td>4.123776</td>\n",
              "      <td>37.361027</td>\n",
              "      <td>51.161420</td>\n",
              "      <td>13.789714</td>\n",
              "      <td>1.698851</td>\n",
              "    </tr>\n",
              "    <tr>\n",
              "      <th>std</th>\n",
              "      <td>12.528780</td>\n",
              "      <td>35.498976</td>\n",
              "      <td>9.244756</td>\n",
              "      <td>59.042317</td>\n",
              "      <td>22.544475</td>\n",
              "      <td>147.752574</td>\n",
              "      <td>13.645467</td>\n",
              "      <td>23.003543</td>\n",
              "      <td>26.417671</td>\n",
              "      <td>1.351700</td>\n",
              "    </tr>\n",
              "    <tr>\n",
              "      <th>min</th>\n",
              "      <td>36.000000</td>\n",
              "      <td>-908.000000</td>\n",
              "      <td>71.000000</td>\n",
              "      <td>-587.000000</td>\n",
              "      <td>-46.000000</td>\n",
              "      <td>-898.000000</td>\n",
              "      <td>-18.000000</td>\n",
              "      <td>-353.000000</td>\n",
              "      <td>-356.000000</td>\n",
              "      <td>1.000000</td>\n",
              "    </tr>\n",
              "    <tr>\n",
              "      <th>25%</th>\n",
              "      <td>38.000000</td>\n",
              "      <td>0.000000</td>\n",
              "      <td>78.000000</td>\n",
              "      <td>0.000000</td>\n",
              "      <td>26.000000</td>\n",
              "      <td>-4.000000</td>\n",
              "      <td>31.000000</td>\n",
              "      <td>37.000000</td>\n",
              "      <td>0.000000</td>\n",
              "      <td>1.000000</td>\n",
              "    </tr>\n",
              "    <tr>\n",
              "      <th>50%</th>\n",
              "      <td>45.000000</td>\n",
              "      <td>0.000000</td>\n",
              "      <td>83.000000</td>\n",
              "      <td>0.000000</td>\n",
              "      <td>42.000000</td>\n",
              "      <td>0.000000</td>\n",
              "      <td>39.000000</td>\n",
              "      <td>44.000000</td>\n",
              "      <td>2.000000</td>\n",
              "      <td>1.000000</td>\n",
              "    </tr>\n",
              "    <tr>\n",
              "      <th>75%</th>\n",
              "      <td>55.000000</td>\n",
              "      <td>0.000000</td>\n",
              "      <td>90.000000</td>\n",
              "      <td>0.000000</td>\n",
              "      <td>46.000000</td>\n",
              "      <td>5.000000</td>\n",
              "      <td>42.000000</td>\n",
              "      <td>62.000000</td>\n",
              "      <td>14.000000</td>\n",
              "      <td>1.000000</td>\n",
              "    </tr>\n",
              "    <tr>\n",
              "      <th>max</th>\n",
              "      <td>123.000000</td>\n",
              "      <td>1409.000000</td>\n",
              "      <td>113.000000</td>\n",
              "      <td>2565.000000</td>\n",
              "      <td>436.000000</td>\n",
              "      <td>6339.000000</td>\n",
              "      <td>72.000000</td>\n",
              "      <td>130.000000</td>\n",
              "      <td>126.000000</td>\n",
              "      <td>5.000000</td>\n",
              "    </tr>\n",
              "  </tbody>\n",
              "</table>\n",
              "</div>"
            ],
            "text/plain": [
              "                 A1            A2  ...            A9         Class\n",
              "count  19885.000000  19985.000000  ...  19735.000000  21750.000000\n",
              "mean      48.178024      0.203453  ...     13.789714      1.698851\n",
              "std       12.528780     35.498976  ...     26.417671      1.351700\n",
              "min       36.000000   -908.000000  ...   -356.000000      1.000000\n",
              "25%       38.000000      0.000000  ...      0.000000      1.000000\n",
              "50%       45.000000      0.000000  ...      2.000000      1.000000\n",
              "75%       55.000000      0.000000  ...     14.000000      1.000000\n",
              "max      123.000000   1409.000000  ...    126.000000      5.000000\n",
              "\n",
              "[8 rows x 10 columns]"
            ]
          },
          "metadata": {
            "tags": []
          },
          "execution_count": 73
        }
      ]
    },
    {
      "cell_type": "markdown",
      "metadata": {
        "id": "KTa8rFL74j9R"
      },
      "source": [
        "Shows the duplicate observations present in the data frame."
      ]
    },
    {
      "cell_type": "code",
      "metadata": {
        "id": "PRUjHWc7xlXJ",
        "outputId": "c536df32-ef89-489b-86af-ed16f02870f4",
        "colab": {
          "base_uri": "https://localhost:8080/",
          "height": 419
        }
      },
      "source": [
        "df_duplicate = df[df.duplicated()]\n",
        "df_duplicate"
      ],
      "execution_count": 74,
      "outputs": [
        {
          "output_type": "execute_result",
          "data": {
            "text/html": [
              "<div>\n",
              "<style scoped>\n",
              "    .dataframe tbody tr th:only-of-type {\n",
              "        vertical-align: middle;\n",
              "    }\n",
              "\n",
              "    .dataframe tbody tr th {\n",
              "        vertical-align: top;\n",
              "    }\n",
              "\n",
              "    .dataframe thead th {\n",
              "        text-align: right;\n",
              "    }\n",
              "</style>\n",
              "<table border=\"1\" class=\"dataframe\">\n",
              "  <thead>\n",
              "    <tr style=\"text-align: right;\">\n",
              "      <th></th>\n",
              "      <th>A1</th>\n",
              "      <th>A2</th>\n",
              "      <th>A3</th>\n",
              "      <th>A4</th>\n",
              "      <th>A5</th>\n",
              "      <th>A6</th>\n",
              "      <th>A7</th>\n",
              "      <th>A8</th>\n",
              "      <th>A9</th>\n",
              "      <th>Class</th>\n",
              "    </tr>\n",
              "  </thead>\n",
              "  <tbody>\n",
              "    <tr>\n",
              "      <th>1183</th>\n",
              "      <td>37.0</td>\n",
              "      <td>0.0</td>\n",
              "      <td>76.0</td>\n",
              "      <td>0.0</td>\n",
              "      <td>26.0</td>\n",
              "      <td>NaN</td>\n",
              "      <td>40.0</td>\n",
              "      <td>50.0</td>\n",
              "      <td>10.0</td>\n",
              "      <td>1.0</td>\n",
              "    </tr>\n",
              "    <tr>\n",
              "      <th>2175</th>\n",
              "      <td>41.0</td>\n",
              "      <td>1.0</td>\n",
              "      <td>86.0</td>\n",
              "      <td>3.0</td>\n",
              "      <td>42.0</td>\n",
              "      <td>6.0</td>\n",
              "      <td>45.0</td>\n",
              "      <td>45.0</td>\n",
              "      <td>0.0</td>\n",
              "      <td>1.0</td>\n",
              "    </tr>\n",
              "    <tr>\n",
              "      <th>2176</th>\n",
              "      <td>50.0</td>\n",
              "      <td>-4.0</td>\n",
              "      <td>83.0</td>\n",
              "      <td>0.0</td>\n",
              "      <td>50.0</td>\n",
              "      <td>0.0</td>\n",
              "      <td>33.0</td>\n",
              "      <td>34.0</td>\n",
              "      <td>2.0</td>\n",
              "      <td>1.0</td>\n",
              "    </tr>\n",
              "    <tr>\n",
              "      <th>2177</th>\n",
              "      <td>48.0</td>\n",
              "      <td>1.0</td>\n",
              "      <td>81.0</td>\n",
              "      <td>-1.0</td>\n",
              "      <td>46.0</td>\n",
              "      <td>0.0</td>\n",
              "      <td>33.0</td>\n",
              "      <td>34.0</td>\n",
              "      <td>2.0</td>\n",
              "      <td>1.0</td>\n",
              "    </tr>\n",
              "    <tr>\n",
              "      <th>2187</th>\n",
              "      <td>49.0</td>\n",
              "      <td>-4.0</td>\n",
              "      <td>107.0</td>\n",
              "      <td>-1.0</td>\n",
              "      <td>50.0</td>\n",
              "      <td>0.0</td>\n",
              "      <td>58.0</td>\n",
              "      <td>58.0</td>\n",
              "      <td>0.0</td>\n",
              "      <td>1.0</td>\n",
              "    </tr>\n",
              "    <tr>\n",
              "      <th>...</th>\n",
              "      <td>...</td>\n",
              "      <td>...</td>\n",
              "      <td>...</td>\n",
              "      <td>...</td>\n",
              "      <td>...</td>\n",
              "      <td>...</td>\n",
              "      <td>...</td>\n",
              "      <td>...</td>\n",
              "      <td>...</td>\n",
              "      <td>...</td>\n",
              "    </tr>\n",
              "    <tr>\n",
              "      <th>21750</th>\n",
              "      <td>56.0</td>\n",
              "      <td>0.0</td>\n",
              "      <td>78.0</td>\n",
              "      <td>1.0</td>\n",
              "      <td>44.0</td>\n",
              "      <td>0.0</td>\n",
              "      <td>22.0</td>\n",
              "      <td>34.0</td>\n",
              "      <td>12.0</td>\n",
              "      <td>4.0</td>\n",
              "    </tr>\n",
              "    <tr>\n",
              "      <th>21751</th>\n",
              "      <td>55.0</td>\n",
              "      <td>-4.0</td>\n",
              "      <td>78.0</td>\n",
              "      <td>0.0</td>\n",
              "      <td>56.0</td>\n",
              "      <td>30.0</td>\n",
              "      <td>23.0</td>\n",
              "      <td>21.0</td>\n",
              "      <td>0.0</td>\n",
              "      <td>1.0</td>\n",
              "    </tr>\n",
              "    <tr>\n",
              "      <th>21752</th>\n",
              "      <td>37.0</td>\n",
              "      <td>0.0</td>\n",
              "      <td>78.0</td>\n",
              "      <td>0.0</td>\n",
              "      <td>-4.0</td>\n",
              "      <td>28.0</td>\n",
              "      <td>41.0</td>\n",
              "      <td>83.0</td>\n",
              "      <td>42.0</td>\n",
              "      <td>1.0</td>\n",
              "    </tr>\n",
              "    <tr>\n",
              "      <th>21753</th>\n",
              "      <td>44.0</td>\n",
              "      <td>-4.0</td>\n",
              "      <td>77.0</td>\n",
              "      <td>0.0</td>\n",
              "      <td>44.0</td>\n",
              "      <td>21.0</td>\n",
              "      <td>33.0</td>\n",
              "      <td>33.0</td>\n",
              "      <td>0.0</td>\n",
              "      <td>1.0</td>\n",
              "    </tr>\n",
              "    <tr>\n",
              "      <th>21754</th>\n",
              "      <td>54.0</td>\n",
              "      <td>0.0</td>\n",
              "      <td>108.0</td>\n",
              "      <td>5.0</td>\n",
              "      <td>54.0</td>\n",
              "      <td>0.0</td>\n",
              "      <td>54.0</td>\n",
              "      <td>54.0</td>\n",
              "      <td>0.0</td>\n",
              "      <td>1.0</td>\n",
              "    </tr>\n",
              "  </tbody>\n",
              "</table>\n",
              "<p>10373 rows × 10 columns</p>\n",
              "</div>"
            ],
            "text/plain": [
              "         A1   A2     A3   A4    A5    A6    A7    A8    A9  Class\n",
              "1183   37.0  0.0   76.0  0.0  26.0   NaN  40.0  50.0  10.0    1.0\n",
              "2175   41.0  1.0   86.0  3.0  42.0   6.0  45.0  45.0   0.0    1.0\n",
              "2176   50.0 -4.0   83.0  0.0  50.0   0.0  33.0  34.0   2.0    1.0\n",
              "2177   48.0  1.0   81.0 -1.0  46.0   0.0  33.0  34.0   2.0    1.0\n",
              "2187   49.0 -4.0  107.0 -1.0  50.0   0.0  58.0  58.0   0.0    1.0\n",
              "...     ...  ...    ...  ...   ...   ...   ...   ...   ...    ...\n",
              "21750  56.0  0.0   78.0  1.0  44.0   0.0  22.0  34.0  12.0    4.0\n",
              "21751  55.0 -4.0   78.0  0.0  56.0  30.0  23.0  21.0   0.0    1.0\n",
              "21752  37.0  0.0   78.0  0.0  -4.0  28.0  41.0  83.0  42.0    1.0\n",
              "21753  44.0 -4.0   77.0  0.0  44.0  21.0  33.0  33.0   0.0    1.0\n",
              "21754  54.0  0.0  108.0  5.0  54.0   0.0  54.0  54.0   0.0    1.0\n",
              "\n",
              "[10373 rows x 10 columns]"
            ]
          },
          "metadata": {
            "tags": []
          },
          "execution_count": 74
        }
      ]
    },
    {
      "cell_type": "markdown",
      "metadata": {
        "id": "Dsg8QEFv4trH"
      },
      "source": [
        "Prints rows with null values across all the features."
      ]
    },
    {
      "cell_type": "code",
      "metadata": {
        "id": "N8K7caiHxlXN",
        "outputId": "639bfff5-1f46-4841-8a8d-4de984287bc6",
        "colab": {
          "base_uri": "https://localhost:8080/"
        }
      },
      "source": [
        "print(df[df['Class'].isna()])"
      ],
      "execution_count": 75,
      "outputs": [
        {
          "output_type": "stream",
          "text": [
            "       A1  A2  A3  A4  A5  A6  A7  A8  A9  Class\n",
            "21729 NaN NaN NaN NaN NaN NaN NaN NaN NaN    NaN\n",
            "21732 NaN NaN NaN NaN NaN NaN NaN NaN NaN    NaN\n",
            "21734 NaN NaN NaN NaN NaN NaN NaN NaN NaN    NaN\n",
            "21738 NaN NaN NaN NaN NaN NaN NaN NaN NaN    NaN\n",
            "21745 NaN NaN NaN NaN NaN NaN NaN NaN NaN    NaN\n"
          ],
          "name": "stdout"
        }
      ]
    },
    {
      "cell_type": "markdown",
      "metadata": {
        "id": "468FJKy243P6"
      },
      "source": [
        "Drops all the duplicate observations and observations with Class value as null. Also resets data frame indexing to make it consistent."
      ]
    },
    {
      "cell_type": "code",
      "metadata": {
        "id": "p-yh71qMxlXR"
      },
      "source": [
        "df_without_duplicate = df[(~df.duplicated()) & (~df['Class'].isna())]\n",
        "df_without_duplicate = df_without_duplicate.reset_index(drop=True)"
      ],
      "execution_count": 76,
      "outputs": []
    },
    {
      "cell_type": "markdown",
      "metadata": {
        "id": "AdiwlnJ55SLn"
      },
      "source": [
        "Prints shape of the data fram after droping the duplicate values and unique values of target Class. Also describes the data frame."
      ]
    },
    {
      "cell_type": "code",
      "metadata": {
        "id": "6x-9e_bsxlXV",
        "outputId": "3562bd50-9823-4a8c-f111-6d58b09decf1",
        "colab": {
          "base_uri": "https://localhost:8080/",
          "height": 331
        }
      },
      "source": [
        "print('Shape of the Data Frame: ',repr(df_without_duplicate.shape))\n",
        "print('Unique Values in the Class coloumn: ',repr(df_without_duplicate.Class.unique()))\n",
        "df_without_duplicate.describe()"
      ],
      "execution_count": 77,
      "outputs": [
        {
          "output_type": "stream",
          "text": [
            "Shape of the Data Frame:  (11381, 10)\n",
            "Unique Values in the Class coloumn:  array([1., 4., 5., 3., 2.])\n"
          ],
          "name": "stdout"
        },
        {
          "output_type": "execute_result",
          "data": {
            "text/html": [
              "<div>\n",
              "<style scoped>\n",
              "    .dataframe tbody tr th:only-of-type {\n",
              "        vertical-align: middle;\n",
              "    }\n",
              "\n",
              "    .dataframe tbody tr th {\n",
              "        vertical-align: top;\n",
              "    }\n",
              "\n",
              "    .dataframe thead th {\n",
              "        text-align: right;\n",
              "    }\n",
              "</style>\n",
              "<table border=\"1\" class=\"dataframe\">\n",
              "  <thead>\n",
              "    <tr style=\"text-align: right;\">\n",
              "      <th></th>\n",
              "      <th>A1</th>\n",
              "      <th>A2</th>\n",
              "      <th>A3</th>\n",
              "      <th>A4</th>\n",
              "      <th>A5</th>\n",
              "      <th>A6</th>\n",
              "      <th>A7</th>\n",
              "      <th>A8</th>\n",
              "      <th>A9</th>\n",
              "      <th>Class</th>\n",
              "    </tr>\n",
              "  </thead>\n",
              "  <tbody>\n",
              "    <tr>\n",
              "      <th>count</th>\n",
              "      <td>9883.000000</td>\n",
              "      <td>9997.000000</td>\n",
              "      <td>9736.000000</td>\n",
              "      <td>9768.000000</td>\n",
              "      <td>9820.000000</td>\n",
              "      <td>9829.000000</td>\n",
              "      <td>9900.000000</td>\n",
              "      <td>9892.000000</td>\n",
              "      <td>9786.000000</td>\n",
              "      <td>11381.000000</td>\n",
              "    </tr>\n",
              "    <tr>\n",
              "      <th>mean</th>\n",
              "      <td>48.312152</td>\n",
              "      <td>0.308693</td>\n",
              "      <td>85.647186</td>\n",
              "      <td>0.939701</td>\n",
              "      <td>34.512627</td>\n",
              "      <td>4.338997</td>\n",
              "      <td>37.219697</td>\n",
              "      <td>51.249090</td>\n",
              "      <td>13.949928</td>\n",
              "      <td>1.707056</td>\n",
              "    </tr>\n",
              "    <tr>\n",
              "      <th>std</th>\n",
              "      <td>12.802052</td>\n",
              "      <td>42.783687</td>\n",
              "      <td>9.255452</td>\n",
              "      <td>53.115921</td>\n",
              "      <td>22.480552</td>\n",
              "      <td>149.193657</td>\n",
              "      <td>13.751379</td>\n",
              "      <td>23.080156</td>\n",
              "      <td>26.450759</td>\n",
              "      <td>1.359834</td>\n",
              "    </tr>\n",
              "    <tr>\n",
              "      <th>min</th>\n",
              "      <td>36.000000</td>\n",
              "      <td>-908.000000</td>\n",
              "      <td>71.000000</td>\n",
              "      <td>-587.000000</td>\n",
              "      <td>-46.000000</td>\n",
              "      <td>-898.000000</td>\n",
              "      <td>-18.000000</td>\n",
              "      <td>-353.000000</td>\n",
              "      <td>-356.000000</td>\n",
              "      <td>1.000000</td>\n",
              "    </tr>\n",
              "    <tr>\n",
              "      <th>25%</th>\n",
              "      <td>38.000000</td>\n",
              "      <td>0.000000</td>\n",
              "      <td>78.000000</td>\n",
              "      <td>0.000000</td>\n",
              "      <td>26.000000</td>\n",
              "      <td>-4.000000</td>\n",
              "      <td>31.000000</td>\n",
              "      <td>37.000000</td>\n",
              "      <td>0.000000</td>\n",
              "      <td>1.000000</td>\n",
              "    </tr>\n",
              "    <tr>\n",
              "      <th>50%</th>\n",
              "      <td>45.000000</td>\n",
              "      <td>0.000000</td>\n",
              "      <td>83.000000</td>\n",
              "      <td>0.000000</td>\n",
              "      <td>42.000000</td>\n",
              "      <td>0.000000</td>\n",
              "      <td>39.000000</td>\n",
              "      <td>44.000000</td>\n",
              "      <td>2.000000</td>\n",
              "      <td>1.000000</td>\n",
              "    </tr>\n",
              "    <tr>\n",
              "      <th>75%</th>\n",
              "      <td>55.000000</td>\n",
              "      <td>0.000000</td>\n",
              "      <td>90.000000</td>\n",
              "      <td>0.000000</td>\n",
              "      <td>46.000000</td>\n",
              "      <td>5.000000</td>\n",
              "      <td>42.000000</td>\n",
              "      <td>63.000000</td>\n",
              "      <td>16.000000</td>\n",
              "      <td>1.000000</td>\n",
              "    </tr>\n",
              "    <tr>\n",
              "      <th>max</th>\n",
              "      <td>123.000000</td>\n",
              "      <td>1409.000000</td>\n",
              "      <td>113.000000</td>\n",
              "      <td>2565.000000</td>\n",
              "      <td>436.000000</td>\n",
              "      <td>6339.000000</td>\n",
              "      <td>72.000000</td>\n",
              "      <td>130.000000</td>\n",
              "      <td>126.000000</td>\n",
              "      <td>5.000000</td>\n",
              "    </tr>\n",
              "  </tbody>\n",
              "</table>\n",
              "</div>"
            ],
            "text/plain": [
              "                A1           A2  ...           A9         Class\n",
              "count  9883.000000  9997.000000  ...  9786.000000  11381.000000\n",
              "mean     48.312152     0.308693  ...    13.949928      1.707056\n",
              "std      12.802052    42.783687  ...    26.450759      1.359834\n",
              "min      36.000000  -908.000000  ...  -356.000000      1.000000\n",
              "25%      38.000000     0.000000  ...     0.000000      1.000000\n",
              "50%      45.000000     0.000000  ...     2.000000      1.000000\n",
              "75%      55.000000     0.000000  ...    16.000000      1.000000\n",
              "max     123.000000  1409.000000  ...   126.000000      5.000000\n",
              "\n",
              "[8 rows x 10 columns]"
            ]
          },
          "metadata": {
            "tags": []
          },
          "execution_count": 77
        }
      ]
    },
    {
      "cell_type": "markdown",
      "metadata": {
        "id": "p_Yo3ucV5qtO"
      },
      "source": [
        "**Data Imputation**: Scikit learn's KNNImputer library is used to do the KNN imputation as explained in the report. KNNImputer object takes the data frame and imputes missing values with the mean of k nearest neighbors. By default k takes value 5. Returned type is a numpy array."
      ]
    },
    {
      "cell_type": "code",
      "metadata": {
        "id": "criUh26IxlXY"
      },
      "source": [
        "from sklearn.impute import KNNImputer\n",
        "knn = KNNImputer()\n",
        "X_trans = knn.fit_transform(df_without_duplicate)"
      ],
      "execution_count": 78,
      "outputs": []
    },
    {
      "cell_type": "markdown",
      "metadata": {
        "id": "kJmUIZ5l6172"
      },
      "source": [
        "Numpy array is converted to pandas data frame for further processing."
      ]
    },
    {
      "cell_type": "code",
      "metadata": {
        "id": "eOG3TcT7xlXb"
      },
      "source": [
        "dfX_trans = pd.DataFrame(data = X_trans, columns = column_dfIndex)"
      ],
      "execution_count": 79,
      "outputs": []
    },
    {
      "cell_type": "markdown",
      "metadata": {
        "id": "svYrj_mV69hk"
      },
      "source": [
        "Describes the data frame after imputation."
      ]
    },
    {
      "cell_type": "code",
      "metadata": {
        "id": "d71m82UVxlXd",
        "outputId": "722a981d-6ca7-4952-ebee-1ba01ab566c8",
        "colab": {
          "base_uri": "https://localhost:8080/",
          "height": 297
        }
      },
      "source": [
        "dfX_trans.describe()"
      ],
      "execution_count": 80,
      "outputs": [
        {
          "output_type": "execute_result",
          "data": {
            "text/html": [
              "<div>\n",
              "<style scoped>\n",
              "    .dataframe tbody tr th:only-of-type {\n",
              "        vertical-align: middle;\n",
              "    }\n",
              "\n",
              "    .dataframe tbody tr th {\n",
              "        vertical-align: top;\n",
              "    }\n",
              "\n",
              "    .dataframe thead th {\n",
              "        text-align: right;\n",
              "    }\n",
              "</style>\n",
              "<table border=\"1\" class=\"dataframe\">\n",
              "  <thead>\n",
              "    <tr style=\"text-align: right;\">\n",
              "      <th></th>\n",
              "      <th>A1</th>\n",
              "      <th>A2</th>\n",
              "      <th>A3</th>\n",
              "      <th>A4</th>\n",
              "      <th>A5</th>\n",
              "      <th>A6</th>\n",
              "      <th>A7</th>\n",
              "      <th>A8</th>\n",
              "      <th>A9</th>\n",
              "      <th>Class</th>\n",
              "    </tr>\n",
              "  </thead>\n",
              "  <tbody>\n",
              "    <tr>\n",
              "      <th>count</th>\n",
              "      <td>11381.000000</td>\n",
              "      <td>11381.000000</td>\n",
              "      <td>11381.000000</td>\n",
              "      <td>11381.000000</td>\n",
              "      <td>11381.000000</td>\n",
              "      <td>11381.000000</td>\n",
              "      <td>11381.000000</td>\n",
              "      <td>11381.000000</td>\n",
              "      <td>11381.000000</td>\n",
              "      <td>11381.000000</td>\n",
              "    </tr>\n",
              "    <tr>\n",
              "      <th>mean</th>\n",
              "      <td>48.315210</td>\n",
              "      <td>0.382128</td>\n",
              "      <td>85.548212</td>\n",
              "      <td>0.800018</td>\n",
              "      <td>34.479501</td>\n",
              "      <td>3.965275</td>\n",
              "      <td>37.242281</td>\n",
              "      <td>51.176926</td>\n",
              "      <td>14.058273</td>\n",
              "      <td>1.707056</td>\n",
              "    </tr>\n",
              "    <tr>\n",
              "      <th>std</th>\n",
              "      <td>12.800529</td>\n",
              "      <td>44.703967</td>\n",
              "      <td>9.106756</td>\n",
              "      <td>49.657031</td>\n",
              "      <td>22.543932</td>\n",
              "      <td>139.071294</td>\n",
              "      <td>13.618867</td>\n",
              "      <td>22.674259</td>\n",
              "      <td>26.498791</td>\n",
              "      <td>1.359834</td>\n",
              "    </tr>\n",
              "    <tr>\n",
              "      <th>min</th>\n",
              "      <td>36.000000</td>\n",
              "      <td>-908.000000</td>\n",
              "      <td>71.000000</td>\n",
              "      <td>-587.000000</td>\n",
              "      <td>-46.000000</td>\n",
              "      <td>-898.000000</td>\n",
              "      <td>-18.000000</td>\n",
              "      <td>-353.000000</td>\n",
              "      <td>-356.000000</td>\n",
              "      <td>1.000000</td>\n",
              "    </tr>\n",
              "    <tr>\n",
              "      <th>25%</th>\n",
              "      <td>38.000000</td>\n",
              "      <td>0.000000</td>\n",
              "      <td>78.000000</td>\n",
              "      <td>0.000000</td>\n",
              "      <td>26.000000</td>\n",
              "      <td>-4.000000</td>\n",
              "      <td>31.800000</td>\n",
              "      <td>37.000000</td>\n",
              "      <td>0.000000</td>\n",
              "      <td>1.000000</td>\n",
              "    </tr>\n",
              "    <tr>\n",
              "      <th>50%</th>\n",
              "      <td>45.000000</td>\n",
              "      <td>0.000000</td>\n",
              "      <td>83.000000</td>\n",
              "      <td>0.000000</td>\n",
              "      <td>42.000000</td>\n",
              "      <td>0.000000</td>\n",
              "      <td>39.000000</td>\n",
              "      <td>44.000000</td>\n",
              "      <td>2.000000</td>\n",
              "      <td>1.000000</td>\n",
              "    </tr>\n",
              "    <tr>\n",
              "      <th>75%</th>\n",
              "      <td>55.000000</td>\n",
              "      <td>0.000000</td>\n",
              "      <td>89.400000</td>\n",
              "      <td>0.000000</td>\n",
              "      <td>46.000000</td>\n",
              "      <td>5.000000</td>\n",
              "      <td>42.000000</td>\n",
              "      <td>62.000000</td>\n",
              "      <td>16.000000</td>\n",
              "      <td>1.000000</td>\n",
              "    </tr>\n",
              "    <tr>\n",
              "      <th>max</th>\n",
              "      <td>123.000000</td>\n",
              "      <td>1409.000000</td>\n",
              "      <td>113.000000</td>\n",
              "      <td>2565.000000</td>\n",
              "      <td>436.000000</td>\n",
              "      <td>6339.000000</td>\n",
              "      <td>72.000000</td>\n",
              "      <td>130.000000</td>\n",
              "      <td>126.000000</td>\n",
              "      <td>5.000000</td>\n",
              "    </tr>\n",
              "  </tbody>\n",
              "</table>\n",
              "</div>"
            ],
            "text/plain": [
              "                 A1            A2  ...            A9         Class\n",
              "count  11381.000000  11381.000000  ...  11381.000000  11381.000000\n",
              "mean      48.315210      0.382128  ...     14.058273      1.707056\n",
              "std       12.800529     44.703967  ...     26.498791      1.359834\n",
              "min       36.000000   -908.000000  ...   -356.000000      1.000000\n",
              "25%       38.000000      0.000000  ...      0.000000      1.000000\n",
              "50%       45.000000      0.000000  ...      2.000000      1.000000\n",
              "75%       55.000000      0.000000  ...     16.000000      1.000000\n",
              "max      123.000000   1409.000000  ...    126.000000      5.000000\n",
              "\n",
              "[8 rows x 10 columns]"
            ]
          },
          "metadata": {
            "tags": []
          },
          "execution_count": 80
        }
      ]
    },
    {
      "cell_type": "markdown",
      "metadata": {
        "id": "85dhaKLE7DBS"
      },
      "source": [
        "First 9 features are grouped together in a numpy 2d array and target class is grouped in a numpy 1d array."
      ]
    },
    {
      "cell_type": "code",
      "metadata": {
        "id": "xJnOIkokxlXg"
      },
      "source": [
        "npArray = dfX_trans.values\n",
        "X = npArray[:, :9]\n",
        "y = npArray[:, 9:].T\n",
        "y = y.ravel()"
      ],
      "execution_count": 81,
      "outputs": []
    },
    {
      "cell_type": "markdown",
      "metadata": {
        "id": "mCl_8Pkl7Xo7"
      },
      "source": [
        "Prints the shape of feature array and target array."
      ]
    },
    {
      "cell_type": "code",
      "metadata": {
        "id": "jE5Ut3j9xlXi",
        "outputId": "1749a1f6-2c62-4ac2-9365-76b7580b6914",
        "colab": {
          "base_uri": "https://localhost:8080/"
        }
      },
      "source": [
        "print(X.shape)\n",
        "print(y.shape)"
      ],
      "execution_count": 82,
      "outputs": [
        {
          "output_type": "stream",
          "text": [
            "(11381, 9)\n",
            "(11381,)\n"
          ],
          "name": "stdout"
        }
      ]
    },
    {
      "cell_type": "markdown",
      "metadata": {
        "id": "x5hGNeI37fuN"
      },
      "source": [
        "**Feature Selection: ** SelectKBest object selects most important features according to the given parameter. f_classif specifies the use of ANOVA f-test while deciding the importance and k determines how many features to select.\n",
        "\n",
        "Here for every k from [1,10), selectKBest selects best parameters and Decision Tree classifier tries to check the perfomence using those parameters. At last one graph is ploted best k feature vs. f1-score obtained from the decision tree classifier using respective features."
      ]
    },
    {
      "cell_type": "code",
      "metadata": {
        "id": "TKgakS5UxlXl",
        "outputId": "f2c66ed4-4547-449a-f9a8-6e68c145a9a7",
        "colab": {
          "base_uri": "https://localhost:8080/",
          "height": 661
        }
      },
      "source": [
        "import sklearn.feature_selection as fs\n",
        "from sklearn.model_selection import train_test_split\n",
        "from sklearn.tree import DecisionTreeClassifier\n",
        "import sklearn.metrics as metrics\n",
        "import matplotlib.pyplot as plt\n",
        "\n",
        "f1_list = []\n",
        "for k in range(1, 10):\n",
        "    bk = fs.SelectKBest(fs.f_classif, k)\n",
        "    bk.fit(X,y)\n",
        "    X_trans = bk.transform(X)\n",
        "    selected = bk.get_support(indices=True)\n",
        "    selected += 1\n",
        "    print(\"Best \", selected.size, \" Feature: \", selected)\n",
        "    train_x, test_x, train_y, test_y = train_test_split(X_trans, y, random_state=20)\n",
        "    tr = DecisionTreeClassifier(max_depth=5, random_state = 40)\n",
        "    tr.fit(train_x, train_y)\n",
        "    y_pred = tr.predict(test_x)\n",
        "    f1 = metrics.f1_score(test_y, y_pred, average='micro')\n",
        "    f1_list.append(f1)\n",
        "\n",
        "fig, axe = plt.subplots(dpi = 100)\n",
        "axe.plot(range(1, 10), f1_list)\n",
        "axe.set_xlabel(\"best k features\")\n",
        "axe.set_ylabel(\"F1-Score\")\n",
        "plt.show()"
      ],
      "execution_count": 83,
      "outputs": [
        {
          "output_type": "stream",
          "text": [
            "Best  1  Feature:  [1]\n",
            "Best  2  Feature:  [1 9]\n",
            "Best  3  Feature:  [1 7 9]\n",
            "Best  4  Feature:  [1 7 8 9]\n",
            "Best  5  Feature:  [1 5 7 8 9]\n",
            "Best  6  Feature:  [1 3 5 7 8 9]\n",
            "Best  7  Feature:  [1 2 3 5 7 8 9]\n",
            "Best  8  Feature:  [1 2 3 5 6 7 8 9]\n",
            "Best  9  Feature:  [1 2 3 4 5 6 7 8 9]\n"
          ],
          "name": "stdout"
        },
        {
          "output_type": "display_data",
          "data": {
            "image/png": "[encoded data removed]",
            "text/plain": [
              "<Figure size 800x550 with 1 Axes>"
            ]
          },
          "metadata": {
            "tags": []
          }
        }
      ]
    },
    {
      "cell_type": "markdown",
      "metadata": {
        "id": "7r0iMUVrD5xb"
      },
      "source": [
        "Irrelavent features are droped and described."
      ]
    },
    {
      "cell_type": "code",
      "metadata": {
        "id": "UN4d36eexlXn",
        "outputId": "68c0baf9-22e8-4d4c-b5cd-539e88bdc9b0",
        "colab": {
          "base_uri": "https://localhost:8080/",
          "height": 297
        }
      },
      "source": [
        "finaldf = dfX_trans.drop(['A2', 'A3', 'A4', 'A5', 'A6'], axis = 1)\n",
        "finaldf.describe()"
      ],
      "execution_count": 84,
      "outputs": [
        {
          "output_type": "execute_result",
          "data": {
            "text/html": [
              "<div>\n",
              "<style scoped>\n",
              "    .dataframe tbody tr th:only-of-type {\n",
              "        vertical-align: middle;\n",
              "    }\n",
              "\n",
              "    .dataframe tbody tr th {\n",
              "        vertical-align: top;\n",
              "    }\n",
              "\n",
              "    .dataframe thead th {\n",
              "        text-align: right;\n",
              "    }\n",
              "</style>\n",
              "<table border=\"1\" class=\"dataframe\">\n",
              "  <thead>\n",
              "    <tr style=\"text-align: right;\">\n",
              "      <th></th>\n",
              "      <th>A1</th>\n",
              "      <th>A7</th>\n",
              "      <th>A8</th>\n",
              "      <th>A9</th>\n",
              "      <th>Class</th>\n",
              "    </tr>\n",
              "  </thead>\n",
              "  <tbody>\n",
              "    <tr>\n",
              "      <th>count</th>\n",
              "      <td>11381.000000</td>\n",
              "      <td>11381.000000</td>\n",
              "      <td>11381.000000</td>\n",
              "      <td>11381.000000</td>\n",
              "      <td>11381.000000</td>\n",
              "    </tr>\n",
              "    <tr>\n",
              "      <th>mean</th>\n",
              "      <td>48.315210</td>\n",
              "      <td>37.242281</td>\n",
              "      <td>51.176926</td>\n",
              "      <td>14.058273</td>\n",
              "      <td>1.707056</td>\n",
              "    </tr>\n",
              "    <tr>\n",
              "      <th>std</th>\n",
              "      <td>12.800529</td>\n",
              "      <td>13.618867</td>\n",
              "      <td>22.674259</td>\n",
              "      <td>26.498791</td>\n",
              "      <td>1.359834</td>\n",
              "    </tr>\n",
              "    <tr>\n",
              "      <th>min</th>\n",
              "      <td>36.000000</td>\n",
              "      <td>-18.000000</td>\n",
              "      <td>-353.000000</td>\n",
              "      <td>-356.000000</td>\n",
              "      <td>1.000000</td>\n",
              "    </tr>\n",
              "    <tr>\n",
              "      <th>25%</th>\n",
              "      <td>38.000000</td>\n",
              "      <td>31.800000</td>\n",
              "      <td>37.000000</td>\n",
              "      <td>0.000000</td>\n",
              "      <td>1.000000</td>\n",
              "    </tr>\n",
              "    <tr>\n",
              "      <th>50%</th>\n",
              "      <td>45.000000</td>\n",
              "      <td>39.000000</td>\n",
              "      <td>44.000000</td>\n",
              "      <td>2.000000</td>\n",
              "      <td>1.000000</td>\n",
              "    </tr>\n",
              "    <tr>\n",
              "      <th>75%</th>\n",
              "      <td>55.000000</td>\n",
              "      <td>42.000000</td>\n",
              "      <td>62.000000</td>\n",
              "      <td>16.000000</td>\n",
              "      <td>1.000000</td>\n",
              "    </tr>\n",
              "    <tr>\n",
              "      <th>max</th>\n",
              "      <td>123.000000</td>\n",
              "      <td>72.000000</td>\n",
              "      <td>130.000000</td>\n",
              "      <td>126.000000</td>\n",
              "      <td>5.000000</td>\n",
              "    </tr>\n",
              "  </tbody>\n",
              "</table>\n",
              "</div>"
            ],
            "text/plain": [
              "                 A1            A7            A8            A9         Class\n",
              "count  11381.000000  11381.000000  11381.000000  11381.000000  11381.000000\n",
              "mean      48.315210     37.242281     51.176926     14.058273      1.707056\n",
              "std       12.800529     13.618867     22.674259     26.498791      1.359834\n",
              "min       36.000000    -18.000000   -353.000000   -356.000000      1.000000\n",
              "25%       38.000000     31.800000     37.000000      0.000000      1.000000\n",
              "50%       45.000000     39.000000     44.000000      2.000000      1.000000\n",
              "75%       55.000000     42.000000     62.000000     16.000000      1.000000\n",
              "max      123.000000     72.000000    130.000000    126.000000      5.000000"
            ]
          },
          "metadata": {
            "tags": []
          },
          "execution_count": 84
        }
      ]
    },
    {
      "cell_type": "markdown",
      "metadata": {
        "id": "hMgkyKOuEl6C"
      },
      "source": [
        "Duplicate observations after dropping few features."
      ]
    },
    {
      "cell_type": "code",
      "metadata": {
        "id": "EpKDYynnxlXp",
        "outputId": "ee3d6348-e607-45e8-854d-52eeb2d5e2d9",
        "colab": {
          "base_uri": "https://localhost:8080/",
          "height": 419
        }
      },
      "source": [
        "finaldf[finaldf.duplicated()]"
      ],
      "execution_count": 85,
      "outputs": [
        {
          "output_type": "execute_result",
          "data": {
            "text/html": [
              "<div>\n",
              "<style scoped>\n",
              "    .dataframe tbody tr th:only-of-type {\n",
              "        vertical-align: middle;\n",
              "    }\n",
              "\n",
              "    .dataframe tbody tr th {\n",
              "        vertical-align: top;\n",
              "    }\n",
              "\n",
              "    .dataframe thead th {\n",
              "        text-align: right;\n",
              "    }\n",
              "</style>\n",
              "<table border=\"1\" class=\"dataframe\">\n",
              "  <thead>\n",
              "    <tr style=\"text-align: right;\">\n",
              "      <th></th>\n",
              "      <th>A1</th>\n",
              "      <th>A7</th>\n",
              "      <th>A8</th>\n",
              "      <th>A9</th>\n",
              "      <th>Class</th>\n",
              "    </tr>\n",
              "  </thead>\n",
              "  <tbody>\n",
              "    <tr>\n",
              "      <th>43</th>\n",
              "      <td>43.0</td>\n",
              "      <td>37.0</td>\n",
              "      <td>39.0</td>\n",
              "      <td>2.0</td>\n",
              "      <td>1.0</td>\n",
              "    </tr>\n",
              "    <tr>\n",
              "      <th>59</th>\n",
              "      <td>37.0</td>\n",
              "      <td>43.0</td>\n",
              "      <td>47.0</td>\n",
              "      <td>4.0</td>\n",
              "      <td>1.0</td>\n",
              "    </tr>\n",
              "    <tr>\n",
              "      <th>82</th>\n",
              "      <td>44.0</td>\n",
              "      <td>38.0</td>\n",
              "      <td>38.0</td>\n",
              "      <td>0.0</td>\n",
              "      <td>1.0</td>\n",
              "    </tr>\n",
              "    <tr>\n",
              "      <th>88</th>\n",
              "      <td>44.0</td>\n",
              "      <td>42.0</td>\n",
              "      <td>42.0</td>\n",
              "      <td>0.0</td>\n",
              "      <td>1.0</td>\n",
              "    </tr>\n",
              "    <tr>\n",
              "      <th>115</th>\n",
              "      <td>44.0</td>\n",
              "      <td>44.0</td>\n",
              "      <td>44.0</td>\n",
              "      <td>0.0</td>\n",
              "      <td>1.0</td>\n",
              "    </tr>\n",
              "    <tr>\n",
              "      <th>...</th>\n",
              "      <td>...</td>\n",
              "      <td>...</td>\n",
              "      <td>...</td>\n",
              "      <td>...</td>\n",
              "      <td>...</td>\n",
              "    </tr>\n",
              "    <tr>\n",
              "      <th>11376</th>\n",
              "      <td>51.0</td>\n",
              "      <td>37.0</td>\n",
              "      <td>36.0</td>\n",
              "      <td>0.0</td>\n",
              "      <td>1.0</td>\n",
              "    </tr>\n",
              "    <tr>\n",
              "      <th>11377</th>\n",
              "      <td>37.0</td>\n",
              "      <td>42.0</td>\n",
              "      <td>70.0</td>\n",
              "      <td>28.0</td>\n",
              "      <td>1.0</td>\n",
              "    </tr>\n",
              "    <tr>\n",
              "      <th>11378</th>\n",
              "      <td>37.0</td>\n",
              "      <td>56.0</td>\n",
              "      <td>65.0</td>\n",
              "      <td>8.0</td>\n",
              "      <td>1.0</td>\n",
              "    </tr>\n",
              "    <tr>\n",
              "      <th>11379</th>\n",
              "      <td>106.0</td>\n",
              "      <td>1.0</td>\n",
              "      <td>35.0</td>\n",
              "      <td>34.0</td>\n",
              "      <td>5.0</td>\n",
              "    </tr>\n",
              "    <tr>\n",
              "      <th>11380</th>\n",
              "      <td>37.0</td>\n",
              "      <td>43.0</td>\n",
              "      <td>44.0</td>\n",
              "      <td>2.0</td>\n",
              "      <td>1.0</td>\n",
              "    </tr>\n",
              "  </tbody>\n",
              "</table>\n",
              "<p>8104 rows × 5 columns</p>\n",
              "</div>"
            ],
            "text/plain": [
              "          A1    A7    A8    A9  Class\n",
              "43      43.0  37.0  39.0   2.0    1.0\n",
              "59      37.0  43.0  47.0   4.0    1.0\n",
              "82      44.0  38.0  38.0   0.0    1.0\n",
              "88      44.0  42.0  42.0   0.0    1.0\n",
              "115     44.0  44.0  44.0   0.0    1.0\n",
              "...      ...   ...   ...   ...    ...\n",
              "11376   51.0  37.0  36.0   0.0    1.0\n",
              "11377   37.0  42.0  70.0  28.0    1.0\n",
              "11378   37.0  56.0  65.0   8.0    1.0\n",
              "11379  106.0   1.0  35.0  34.0    5.0\n",
              "11380   37.0  43.0  44.0   2.0    1.0\n",
              "\n",
              "[8104 rows x 5 columns]"
            ]
          },
          "metadata": {
            "tags": []
          },
          "execution_count": 85
        }
      ]
    },
    {
      "cell_type": "markdown",
      "metadata": {
        "id": "GX5govoaE8e1"
      },
      "source": [
        "Duplicate observations are dropped and data frame index is reset."
      ]
    },
    {
      "cell_type": "code",
      "metadata": {
        "id": "G9DgaHgAxlXs"
      },
      "source": [
        "finaldf = finaldf.drop_duplicates()\n",
        "finaldf = finaldf.reset_index(drop=True)"
      ],
      "execution_count": 86,
      "outputs": []
    },
    {
      "cell_type": "markdown",
      "metadata": {
        "id": "Zp4zImBUFHGE"
      },
      "source": [
        "Print the final data frame set on after all the pre processing."
      ]
    },
    {
      "cell_type": "code",
      "metadata": {
        "id": "iILQOAxhxlXu",
        "outputId": "6eddf711-2bcd-46bc-c5c6-dc1fc79b569b",
        "colab": {
          "base_uri": "https://localhost:8080/",
          "height": 419
        }
      },
      "source": [
        "finaldf"
      ],
      "execution_count": 87,
      "outputs": [
        {
          "output_type": "execute_result",
          "data": {
            "text/html": [
              "<div>\n",
              "<style scoped>\n",
              "    .dataframe tbody tr th:only-of-type {\n",
              "        vertical-align: middle;\n",
              "    }\n",
              "\n",
              "    .dataframe tbody tr th {\n",
              "        vertical-align: top;\n",
              "    }\n",
              "\n",
              "    .dataframe thead th {\n",
              "        text-align: right;\n",
              "    }\n",
              "</style>\n",
              "<table border=\"1\" class=\"dataframe\">\n",
              "  <thead>\n",
              "    <tr style=\"text-align: right;\">\n",
              "      <th></th>\n",
              "      <th>A1</th>\n",
              "      <th>A7</th>\n",
              "      <th>A8</th>\n",
              "      <th>A9</th>\n",
              "      <th>Class</th>\n",
              "    </tr>\n",
              "  </thead>\n",
              "  <tbody>\n",
              "    <tr>\n",
              "      <th>0</th>\n",
              "      <td>49.0</td>\n",
              "      <td>30.0</td>\n",
              "      <td>32.0</td>\n",
              "      <td>2.0</td>\n",
              "      <td>1.0</td>\n",
              "    </tr>\n",
              "    <tr>\n",
              "      <th>1</th>\n",
              "      <td>41.0</td>\n",
              "      <td>45.0</td>\n",
              "      <td>45.0</td>\n",
              "      <td>0.0</td>\n",
              "      <td>1.0</td>\n",
              "    </tr>\n",
              "    <tr>\n",
              "      <th>2</th>\n",
              "      <td>50.0</td>\n",
              "      <td>33.0</td>\n",
              "      <td>34.0</td>\n",
              "      <td>2.0</td>\n",
              "      <td>1.0</td>\n",
              "    </tr>\n",
              "    <tr>\n",
              "      <th>3</th>\n",
              "      <td>48.0</td>\n",
              "      <td>33.0</td>\n",
              "      <td>34.0</td>\n",
              "      <td>2.0</td>\n",
              "      <td>1.0</td>\n",
              "    </tr>\n",
              "    <tr>\n",
              "      <th>4</th>\n",
              "      <td>45.0</td>\n",
              "      <td>39.8</td>\n",
              "      <td>41.2</td>\n",
              "      <td>2.0</td>\n",
              "      <td>1.0</td>\n",
              "    </tr>\n",
              "    <tr>\n",
              "      <th>...</th>\n",
              "      <td>...</td>\n",
              "      <td>...</td>\n",
              "      <td>...</td>\n",
              "      <td>...</td>\n",
              "      <td>...</td>\n",
              "    </tr>\n",
              "    <tr>\n",
              "      <th>3272</th>\n",
              "      <td>104.0</td>\n",
              "      <td>1.2</td>\n",
              "      <td>35.0</td>\n",
              "      <td>34.0</td>\n",
              "      <td>5.0</td>\n",
              "    </tr>\n",
              "    <tr>\n",
              "      <th>3273</th>\n",
              "      <td>49.4</td>\n",
              "      <td>34.0</td>\n",
              "      <td>35.0</td>\n",
              "      <td>2.0</td>\n",
              "      <td>1.0</td>\n",
              "    </tr>\n",
              "    <tr>\n",
              "      <th>3274</th>\n",
              "      <td>44.0</td>\n",
              "      <td>38.0</td>\n",
              "      <td>38.4</td>\n",
              "      <td>0.0</td>\n",
              "      <td>1.0</td>\n",
              "    </tr>\n",
              "    <tr>\n",
              "      <th>3275</th>\n",
              "      <td>56.0</td>\n",
              "      <td>34.8</td>\n",
              "      <td>47.2</td>\n",
              "      <td>10.0</td>\n",
              "      <td>4.0</td>\n",
              "    </tr>\n",
              "    <tr>\n",
              "      <th>3276</th>\n",
              "      <td>45.8</td>\n",
              "      <td>37.0</td>\n",
              "      <td>36.0</td>\n",
              "      <td>0.0</td>\n",
              "      <td>1.0</td>\n",
              "    </tr>\n",
              "  </tbody>\n",
              "</table>\n",
              "<p>3277 rows × 5 columns</p>\n",
              "</div>"
            ],
            "text/plain": [
              "         A1    A7    A8    A9  Class\n",
              "0      49.0  30.0  32.0   2.0    1.0\n",
              "1      41.0  45.0  45.0   0.0    1.0\n",
              "2      50.0  33.0  34.0   2.0    1.0\n",
              "3      48.0  33.0  34.0   2.0    1.0\n",
              "4      45.0  39.8  41.2   2.0    1.0\n",
              "...     ...   ...   ...   ...    ...\n",
              "3272  104.0   1.2  35.0  34.0    5.0\n",
              "3273   49.4  34.0  35.0   2.0    1.0\n",
              "3274   44.0  38.0  38.4   0.0    1.0\n",
              "3275   56.0  34.8  47.2  10.0    4.0\n",
              "3276   45.8  37.0  36.0   0.0    1.0\n",
              "\n",
              "[3277 rows x 5 columns]"
            ]
          },
          "metadata": {
            "tags": []
          },
          "execution_count": 87
        }
      ]
    },
    {
      "cell_type": "markdown",
      "metadata": {
        "id": "z--gapOPFP1u"
      },
      "source": [
        "Drawing a paitplot for data visiualization to help deciding on what type of classifier should be used."
      ]
    },
    {
      "cell_type": "code",
      "metadata": {
        "id": "ynY-km_QxlXy",
        "outputId": "851ab24d-5853-4494-d149-92d3c1631342",
        "colab": {
          "base_uri": "https://localhost:8080/",
          "height": 1000
        }
      },
      "source": [
        "import seaborn as sns\n",
        "pairplot_fig = sns.pairplot(finaldf, hue=\"Class\", palette = \"husl\")"
      ],
      "execution_count": 88,
      "outputs": [
        {
          "output_type": "display_data",
          "data": {
            "image/png": "[encoded data removed]",
            "text/plain": [
              "<Figure size 1069.38x1000 with 20 Axes>"
            ]
          },
          "metadata": {
            "tags": []
          }
        }
      ]
    },
    {
      "cell_type": "markdown",
      "metadata": {
        "id": "b8fNnROqFoEu"
      },
      "source": [
        "First 4 features are grouped together in a numpy 2d array and target class is grouped in a numpy 1d array."
      ]
    },
    {
      "cell_type": "code",
      "metadata": {
        "id": "lSeuBGk7xlX0"
      },
      "source": [
        "npArray = finaldf.values\n",
        "X = npArray[:, :4]\n",
        "y = npArray[:, 4:].T\n",
        "y = y.ravel()"
      ],
      "execution_count": 92,
      "outputs": []
    },
    {
      "cell_type": "markdown",
      "metadata": {
        "id": "eQUoA_n0FycD"
      },
      "source": [
        "Prints the shape of feature array and target array."
      ]
    },
    {
      "cell_type": "code",
      "metadata": {
        "id": "g0d_Dj2mxlX2",
        "outputId": "59dedb04-0d1a-4350-b689-d15c57682540",
        "colab": {
          "base_uri": "https://localhost:8080/"
        }
      },
      "source": [
        "print(X.shape)\n",
        "print(y.shape)"
      ],
      "execution_count": 93,
      "outputs": [
        {
          "output_type": "stream",
          "text": [
            "(3277, 4)\n",
            "(3277,)\n"
          ],
          "name": "stdout"
        }
      ]
    },
    {
      "cell_type": "markdown",
      "metadata": {
        "id": "zYihzgIQF15y"
      },
      "source": [
        "Split Data:\n",
        "      train_test_split splits the data into two sets training and testing. In it's default configuration spliting is dont in 75:25 ratio. Stratify = y, makes sure the presence of all classes in training as well as testing set. This is done due to the Imbalance nature of the data set.\n",
        "\n",
        "Learning Model: XGBoost\n",
        "      XGBClassifier takes lot of parameters, but here three parameters are considered. objective is a learning task parameter and it specify corresponding learning objective. Here multiclass classification using softmax is used. Sample_weight takes an array of length equal to the number of training observation and value of corresponding weight associated with the class.\n",
        "\n",
        "Class Weight: \n",
        "      compute_class_weight computes the weight corresponding to different classes. In case of 'balanced', class weights are given by, weights = total_samples / (n_classes * np.bincount(y))\n",
        "\n",
        "Cross Validation:\n",
        "      A common scikit-learn object used with XGBoost models is the GridSearchCV wrapper. In the code below, grid search cross-validation is applied to a multi class classification XGBoost model to find the optimal 'max_depth' parameter (in the range from 2 to 4, inclusive). The K-fold cross-validation (the default for grid search) uses 4 folds.\n",
        "      After calling fit on data and labels, cv_model represents the cross-validated classification model trained on the dataset. The grid search cross-validation automatically chose the best performing 'max_depth' parameter. The best_params_ attribute contains the best performing hyperparameters after cross-validation.\n",
        "\n",
        "Best max_depth is printed."
      ]
    },
    {
      "cell_type": "code",
      "metadata": {
        "id": "RKYj_haZxlX4",
        "outputId": "37c93a8f-5b41-44cf-c87a-2184412430b4",
        "colab": {
          "base_uri": "https://localhost:8080/"
        }
      },
      "source": [
        "import xgboost as xgb\n",
        "from sklearn.model_selection import train_test_split\n",
        "from sklearn.model_selection import GridSearchCV\n",
        "from sklearn.metrics import classification_report\n",
        "from sklearn.utils import class_weight\n",
        "from sklearn.metrics import confusion_matrix\n",
        "\n",
        "train_x, test_x, train_y, test_y = train_test_split(X, y, stratify=y)\n",
        "\n",
        "class_weights = class_weight.compute_class_weight('balanced',\n",
        "                                                   np.unique(train_y),\n",
        "                                                   train_y)\n",
        "\n",
        "w_array = np.ones(train_y.shape[0], dtype='float')\n",
        "for i, val in enumerate(train_y):\n",
        "    w_array[i] = class_weights[int(val-1)]\n",
        "\n",
        "model = xgb.XGBClassifier(objective='multi:softmax', sample_weight=w_array)\n",
        "params = {'max_depth': range(2,5)}\n",
        "\n",
        "cv_model = GridSearchCV(model, params, cv=4)\n",
        "cv_model.fit(train_x, train_y)\n",
        "\n",
        "print('Best max_depth: {}\\n'.format(cv_model.best_params_['max_depth']))\n",
        "best_max_depth = cv_model.best_params_['max_depth']\n",
        "\n",
        "predicted_train = cv_model.predict(train_x)\n",
        "predicted_test = cv_model.predict(test_x)\n",
        "report_on_train = classification_report(train_y, predicted_train)\n",
        "report_on_test = classification_report(test_y, predicted_test)"
      ],
      "execution_count": 111,
      "outputs": [
        {
          "output_type": "stream",
          "text": [
            "Best max_depth: 4\n",
            "\n"
          ],
          "name": "stdout"
        }
      ]
    },
    {
      "cell_type": "markdown",
      "metadata": {
        "id": "z7n7w6ysNVwZ"
      },
      "source": [
        "Split test scores are printed for cross validation."
      ]
    },
    {
      "cell_type": "code",
      "metadata": {
        "id": "pV_0kbLWHLOg",
        "outputId": "0d37c6c9-69e4-4457-819e-02175b8395e0",
        "colab": {
          "base_uri": "https://localhost:8080/",
          "height": 142
        }
      },
      "source": [
        "df_cv_results = df.from_dict(cv_model.cv_results_)\n",
        "df_cv_results[['params', 'split0_test_score', 'split1_test_score','split2_test_score', 'split3_test_score']]"
      ],
      "execution_count": 112,
      "outputs": [
        {
          "output_type": "execute_result",
          "data": {
            "text/html": [
              "<div>\n",
              "<style scoped>\n",
              "    .dataframe tbody tr th:only-of-type {\n",
              "        vertical-align: middle;\n",
              "    }\n",
              "\n",
              "    .dataframe tbody tr th {\n",
              "        vertical-align: top;\n",
              "    }\n",
              "\n",
              "    .dataframe thead th {\n",
              "        text-align: right;\n",
              "    }\n",
              "</style>\n",
              "<table border=\"1\" class=\"dataframe\">\n",
              "  <thead>\n",
              "    <tr style=\"text-align: right;\">\n",
              "      <th></th>\n",
              "      <th>params</th>\n",
              "      <th>split0_test_score</th>\n",
              "      <th>split1_test_score</th>\n",
              "      <th>split2_test_score</th>\n",
              "      <th>split3_test_score</th>\n",
              "    </tr>\n",
              "  </thead>\n",
              "  <tbody>\n",
              "    <tr>\n",
              "      <th>0</th>\n",
              "      <td>{'max_depth': 2}</td>\n",
              "      <td>0.998374</td>\n",
              "      <td>0.995114</td>\n",
              "      <td>0.996743</td>\n",
              "      <td>0.995114</td>\n",
              "    </tr>\n",
              "    <tr>\n",
              "      <th>1</th>\n",
              "      <td>{'max_depth': 3}</td>\n",
              "      <td>0.998374</td>\n",
              "      <td>0.995114</td>\n",
              "      <td>0.996743</td>\n",
              "      <td>0.995114</td>\n",
              "    </tr>\n",
              "    <tr>\n",
              "      <th>2</th>\n",
              "      <td>{'max_depth': 4}</td>\n",
              "      <td>0.998374</td>\n",
              "      <td>0.995114</td>\n",
              "      <td>0.996743</td>\n",
              "      <td>0.996743</td>\n",
              "    </tr>\n",
              "  </tbody>\n",
              "</table>\n",
              "</div>"
            ],
            "text/plain": [
              "             params  split0_test_score  ...  split2_test_score  split3_test_score\n",
              "0  {'max_depth': 2}           0.998374  ...           0.996743           0.995114\n",
              "1  {'max_depth': 3}           0.998374  ...           0.996743           0.995114\n",
              "2  {'max_depth': 4}           0.998374  ...           0.996743           0.996743\n",
              "\n",
              "[3 rows x 5 columns]"
            ]
          },
          "metadata": {
            "tags": []
          },
          "execution_count": 112
        }
      ]
    },
    {
      "cell_type": "markdown",
      "metadata": {
        "id": "k5sa99ZhNdwn"
      },
      "source": [
        "Test Scores against the validation set and rank for different max_depth is printed."
      ]
    },
    {
      "cell_type": "code",
      "metadata": {
        "id": "a26sGBCJHNpc",
        "outputId": "071fd674-ac5b-417c-bf00-1bc6b39e81d9",
        "colab": {
          "base_uri": "https://localhost:8080/",
          "height": 142
        }
      },
      "source": [
        "df_cv_results = df.from_dict(cv_model.cv_results_)\n",
        "df_cv_results[['params', 'rank_test_score', 'mean_test_score','std_test_score']]"
      ],
      "execution_count": 113,
      "outputs": [
        {
          "output_type": "execute_result",
          "data": {
            "text/html": [
              "<div>\n",
              "<style scoped>\n",
              "    .dataframe tbody tr th:only-of-type {\n",
              "        vertical-align: middle;\n",
              "    }\n",
              "\n",
              "    .dataframe tbody tr th {\n",
              "        vertical-align: top;\n",
              "    }\n",
              "\n",
              "    .dataframe thead th {\n",
              "        text-align: right;\n",
              "    }\n",
              "</style>\n",
              "<table border=\"1\" class=\"dataframe\">\n",
              "  <thead>\n",
              "    <tr style=\"text-align: right;\">\n",
              "      <th></th>\n",
              "      <th>params</th>\n",
              "      <th>rank_test_score</th>\n",
              "      <th>mean_test_score</th>\n",
              "      <th>std_test_score</th>\n",
              "    </tr>\n",
              "  </thead>\n",
              "  <tbody>\n",
              "    <tr>\n",
              "      <th>0</th>\n",
              "      <td>{'max_depth': 2}</td>\n",
              "      <td>2</td>\n",
              "      <td>0.996336</td>\n",
              "      <td>0.001351</td>\n",
              "    </tr>\n",
              "    <tr>\n",
              "      <th>1</th>\n",
              "      <td>{'max_depth': 3}</td>\n",
              "      <td>2</td>\n",
              "      <td>0.996336</td>\n",
              "      <td>0.001351</td>\n",
              "    </tr>\n",
              "    <tr>\n",
              "      <th>2</th>\n",
              "      <td>{'max_depth': 4}</td>\n",
              "      <td>1</td>\n",
              "      <td>0.996743</td>\n",
              "      <td>0.001153</td>\n",
              "    </tr>\n",
              "  </tbody>\n",
              "</table>\n",
              "</div>"
            ],
            "text/plain": [
              "             params  rank_test_score  mean_test_score  std_test_score\n",
              "0  {'max_depth': 2}                2         0.996336        0.001351\n",
              "1  {'max_depth': 3}                2         0.996336        0.001351\n",
              "2  {'max_depth': 4}                1         0.996743        0.001153"
            ]
          },
          "metadata": {
            "tags": []
          },
          "execution_count": 113
        }
      ]
    },
    {
      "cell_type": "markdown",
      "metadata": {
        "id": "JauGJDqGNxKq"
      },
      "source": [
        "Validation matrics for training set is shown (Confusion matrix, precision, recall, f1-score, support, accuracy, macro and weighted avg)"
      ]
    },
    {
      "cell_type": "code",
      "metadata": {
        "id": "Q-iNM-vN0LXp",
        "outputId": "d93a41e4-fdd2-4bab-fa41-bf83233b0ab6",
        "colab": {
          "base_uri": "https://localhost:8080/"
        }
      },
      "source": [
        "print(\"Classification Report of Training Set: \\n\")\n",
        "print(\"Confusion Matrix: \")\n",
        "print(confusion_matrix(test_y, predicted_test), '\\n')\n",
        "print(report_on_train)"
      ],
      "execution_count": 114,
      "outputs": [
        {
          "output_type": "stream",
          "text": [
            "Classification Report of Training Set: \n",
            "\n",
            "Confusion Matrix: \n",
            "[[653   0   1   1   0]\n",
            " [  0   1   0   1   0]\n",
            " [  1   0   2   0   0]\n",
            " [  1   0   0 124   0]\n",
            " [  0   0   0   0  35]] \n",
            "\n",
            "              precision    recall  f1-score   support\n",
            "\n",
            "         1.0       1.00      1.00      1.00      1964\n",
            "         2.0       1.00      1.00      1.00         4\n",
            "         3.0       1.00      1.00      1.00         7\n",
            "         4.0       1.00      1.00      1.00       376\n",
            "         5.0       1.00      1.00      1.00       106\n",
            "\n",
            "    accuracy                           1.00      2457\n",
            "   macro avg       1.00      1.00      1.00      2457\n",
            "weighted avg       1.00      1.00      1.00      2457\n",
            "\n"
          ],
          "name": "stdout"
        }
      ]
    },
    {
      "cell_type": "markdown",
      "metadata": {
        "id": "AyNxK4jjN_iX"
      },
      "source": [
        "Validation matrics for testing set is shown (Confusion matrix, precision, recall, f1-score, support, accuracy, macro and weighted avg)"
      ]
    },
    {
      "cell_type": "code",
      "metadata": {
        "id": "SKImiVYC0NJZ",
        "outputId": "ed44c75c-f9a8-4c8d-ef5c-3f20eb4e664c",
        "colab": {
          "base_uri": "https://localhost:8080/"
        }
      },
      "source": [
        "print(\"Classification Report of Test Set: \\n\")\n",
        "print(\"Confusion Matrix: \")\n",
        "print(confusion_matrix(train_y, predicted_train),\"\\n\")\n",
        "print(report_on_test)"
      ],
      "execution_count": 115,
      "outputs": [
        {
          "output_type": "stream",
          "text": [
            "Classification Report of Test Set: \n",
            "\n",
            "Confusion Matrix: \n",
            "[[1964    0    0    0    0]\n",
            " [   0    4    0    0    0]\n",
            " [   0    0    7    0    0]\n",
            " [   0    0    0  376    0]\n",
            " [   0    0    0    0  106]] \n",
            "\n",
            "              precision    recall  f1-score   support\n",
            "\n",
            "         1.0       1.00      1.00      1.00       655\n",
            "         2.0       1.00      0.50      0.67         2\n",
            "         3.0       0.67      0.67      0.67         3\n",
            "         4.0       0.98      0.99      0.99       125\n",
            "         5.0       1.00      1.00      1.00        35\n",
            "\n",
            "    accuracy                           0.99       820\n",
            "   macro avg       0.93      0.83      0.86       820\n",
            "weighted avg       0.99      0.99      0.99       820\n",
            "\n"
          ],
          "name": "stdout"
        }
      ]
    }
  ]
}